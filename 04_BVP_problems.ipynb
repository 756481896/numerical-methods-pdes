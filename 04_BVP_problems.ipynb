{
 "cells": [
  {
   "cell_type": "markdown",
   "metadata": {
    "slideshow": {
     "slide_type": "skip"
    }
   },
   "source": [
    "<table>\n",
    " <tr align=left><td><img align=left src=\"https://i.creativecommons.org/l/by/4.0/88x31.png\">\n",
    " <td>Text provided under a Creative Commons Attribution license, CC-BY. All code is made available under the FSF-approved MIT license. (c) Kyle T. Mandli</td>\n",
    "</table>"
   ]
  },
  {
   "cell_type": "code",
   "execution_count": null,
   "metadata": {
    "collapsed": true,
    "slideshow": {
     "slide_type": "skip"
    }
   },
   "outputs": [],
   "source": [
    "%matplotlib inline\n",
    "import numpy\n",
    "import matplotlib.pyplot as plt"
   ]
  },
  {
   "cell_type": "markdown",
   "metadata": {
    "slideshow": {
     "slide_type": "slide"
    }
   },
   "source": [
    "# Boundary Value Problems:  Discretization"
   ]
  },
  {
   "cell_type": "markdown",
   "metadata": {},
   "source": [
    "## Model Problems"
   ]
  },
  {
   "cell_type": "markdown",
   "metadata": {},
   "source": [
    "The simplest boundary value problem (BVP) we will run into is the one-dimensional version of Poisson's equation\n",
    "$$\n",
    "    u''(x) = f(x).\n",
    "$$"
   ]
  },
  {
   "cell_type": "markdown",
   "metadata": {},
   "source": [
    "Usually we solve this equation on a finite interval with either Dirichlet or Neumann boundary condtions.  Because there are two derivatives in the equation we need two boundary conditions to solve the PDE (really and ODE in this case) uniquely.  To start let us consider the following basic problem\n",
    "$$\\begin{aligned}\n",
    "    u''(x) = f(x) ~~~ \\Omega = [a, b] \\\\\n",
    "    u(a) = \\alpha ~~~ u(b) = \\beta.\n",
    "\\end{aligned}$$"
   ]
  },
  {
   "cell_type": "markdown",
   "metadata": {},
   "source": [
    "BVPs of this sort are often the result of looking at the steady-state form of a time dependent PDE.  For instance, if we were considering the steady-state solution to the heat equation\n",
    "$$\n",
    "    u_t(x,t) = \\kappa u_xx(x,t) + \\Psi(x,t) ~~~~ \\Omega = [0, T] \\times [a, b] \\\\\n",
    "    u(x, 0) = u^0(x) ~~~ u(a, t) = \\alpha(t) ~~~ u(b, t) = \\beta(t)\n",
    "$$\n",
    "we would solve the equation where $u_t = 0$ and arrive at\n",
    "$$\n",
    "    u''(x) = - \\Psi / \\kappa,\n",
    "$$\n",
    "a version of Poisson's equation above."
   ]
  },
  {
   "cell_type": "markdown",
   "metadata": {},
   "source": [
    "In higher spatial dimensions the second derivative turns into a Laplacian.  Notation varies for this but all these are equivalent statements:\n",
    "$$\\begin{aligned}\n",
    "    \\nabla^2 u(\\vec{x}) &= f(\\vec{x}) \\\\\n",
    "    \\Delta u(\\vec{x}) &= f(\\vec{x}) \\\\\n",
    "    \\sum^N_{i=1} u_{x_i x_i} &= f(\\vec{x}).\n",
    "\\end{aligned}$$"
   ]
  },
  {
   "cell_type": "markdown",
   "metadata": {},
   "source": [
    "## One-Dimensional Discretization"
   ]
  },
  {
   "cell_type": "markdown",
   "metadata": {},
   "source": [
    "As a first approach to solving the one-dimensional Poisson's equation let's break up the domain into `m` points, often called a *mesh* or *grid*.  Our goal is to approximate the unknown function $u(x)$ as the mesh points $x_i$.  First we can relate the number of mesh points `m` to the distance between with\n",
    "$$\n",
    "    \\Delta x = \\frac{1}{m + 1}.\n",
    "$$\n",
    "The mesh points $x_i$ can be written as\n",
    "$$\n",
    "    x_i = a + i \\Delta x.\n",
    "$$"
   ]
  },
  {
   "cell_type": "markdown",
   "metadata": {},
   "source": [
    "We can let $\\Delta x$ vary and many of the formulas above have only minor modifications but we will leave that for homework.  Notationally we will also adopt the notation\n",
    "$$\n",
    "    U_i \\approx u(x_i)\n",
    "$$\n",
    "so that $U_i$ are the approximate solution at the grid points and retain the lower-case $u$ to denote the true solution."
   ]
  },
  {
   "cell_type": "markdown",
   "metadata": {},
   "source": [
    "To simplify our discussion let's consider the ODE\n",
    "$$\n",
    "    u''(x) = f(x) ~~~ \\Omega = [0, 1] \\\\\n",
    "    u(0) = \\alpha ~~~ u(1) = \\beta.\n",
    "$$"
   ]
  },
  {
   "cell_type": "markdown",
   "metadata": {},
   "source": [
    "Applying the 2nd order, centered difference approixmation for the 2d derivative we have the equation\n",
    "$$\n",
    "    D^2 U_i = \\frac{1}{\\Delta x^2} (U_{i+1} - 2 U_i + U_{i-1})\n",
    "$$\n",
    "so that we end up with the approximate algebraic expression at every grid point of\n",
    "$$\n",
    "    \\frac{1}{\\Delta x^2} (U_{i+1} - 2 U_i + U_{i-1}) = f(x_i)  ~~~ i = 1, 2, 3, \\ldots, m.\n",
    "$$"
   ]
  },
  {
   "cell_type": "markdown",
   "metadata": {},
   "source": [
    "Note at this point that these algebraic equations are coupled as each $U_i$ depends on its neighbors.  This means we can write these as system of coupled equations\n",
    "$$\n",
    "    A U = F.\n",
    "$$"
   ]
  },
  {
   "cell_type": "markdown",
   "metadata": {},
   "source": [
    "#### Write the system of equations\n",
    "$$\n",
    "    \u001f\\frac{1}{\\Delta x^2} (U_{i+1} - 2 U_i + U_{i-1}) = f(x_i)  ~~~ i = 1, 2, 3, \\ldots, m.\n",
    "$$\n",
    "\n",
    "Note the boundary conditions!"
   ]
  },
  {
   "cell_type": "markdown",
   "metadata": {},
   "source": [
    "$$\n",
    "    \\frac{1}{\\Delta x^2} \\begin{bmatrix}\n",
    "    -2 &  1 &    &    &    \\\\\n",
    "     1 & -2 &  1 &    &    \\\\\n",
    "       &  1 & -2 &  1 &    \\\\\n",
    "       &    &  1 & -2 &  1 \\\\\n",
    "       &    &    &  1 & -2 \\\\\n",
    "    \\end{bmatrix} \\begin{bmatrix}\n",
    "        U_1 \\\\ U_2 \\\\ U_3 \\\\ U_4 \\\\ U_5\n",
    "    \\end{bmatrix} = \n",
    "    \\begin{bmatrix}\n",
    "        f(x_1) - \\frac{\\alpha}{\\Delta x^2} \\\\ f(x_2) \\\\ f(x_3) \\\\ f(x_4) \\\\ f(x_5) - \\frac{\\beta}{\\Delta x^2} \\\\\n",
    "    \\end{bmatrix}.\n",
    "$$"
   ]
  },
  {
   "cell_type": "markdown",
   "metadata": {},
   "source": [
    "## Error Analysis\n",
    "\n",
    "A natural question to ask given our approximation $U_i$ is how close this is to the true solution $u(x)$ at the grid points $x_i$.  To address this we will define the error $E$ as\n",
    "$$\n",
    "    E = U - \\hat{U}\n",
    "$$\n",
    "where $U$ is the vector of the approximate solution and $\\hat{U}$ is the vector composed of the $u(x_i)$.  This leaves $E$ as a vector still so often we ask the question how does the norm of $E$ behave given a particular $\\Delta x$.  For the $\\infty$-norm we would have\n",
    "$$\n",
    "    ||E||_\\infty = \\max_{1 \\leq i \\leq m} |E_i| = \\max_{1 \\leq i \\leq m} |U_i - u(x_i)|\n",
    "$$\n",
    "If we can show that $||E||_\\infty$ goes to zero as $\\Delta x \\rightarrow 0$ we can then claim that the approximate solution $U_i$ at any of the grid points $E_i \\rightarrow 0$.  If we would like to use other norms we often define slightly modified versions of the norms that also contain the grid width $\\Delta x$ where\n",
    "$$\\begin{aligned}\n",
    "    ||E||_1 &= \\Delta x \\sum^m_{i=1} |E_i| \\\\\n",
    "    ||E||_2 &= \\left( \\Delta x \\sum^m_{i=1} |E_i|^2 \\right )^{1/2}\n",
    "\\end{aligned}$$\n",
    "These are referred to as *grid function norms*.\n",
    "\n",
    "The $E$ defined above is known as the *global error*.  Our goal now turns to using the local truncation error and some idea of stability to imply the global error goes to zero."
   ]
  },
  {
   "cell_type": "markdown",
   "metadata": {},
   "source": [
    "### Local Truncation Error\n",
    "\n",
    "The *local truncation error* (LTE) can be defined by replacing the approximate solution $U_i$ by the approximate solution $u(x_i)$.  Since the algebraic equations are an approximation to the original BVP, we do not expect that the true solution will exactly satisfy these equations, this resulting difference is the LTE.\n",
    "\n",
    "For our one-dimensional finite difference approximation from above we have\n",
    "$$\n",
    "    \u001f\\frac{1}{\\Delta x^2} (U_{i+1} - 2 U_i + U_{i-1}) = f(x_i),\n",
    "$$\n",
    "replacing $U_i$ with $u(x_i)$ in this equation leads to\n",
    "$$\n",
    "    \u001f\\tau_i = \\frac{1}{\\Delta x^2} (u(x_{i+1}) - 2 u(x_i) + u(x_{i-1})) - f(x_i).\n",
    "$$\n",
    "\n",
    "In this form the LTE is not as useful but if we assume $u(x)$ is smooth we can repalce the $u(x_i)$ with their Taylor series counterparts, similar to what we did for finite differences.  The relevant Taylor series are\n",
    "$$\n",
    "    u(x_{i \\pm 1}) = u(x_i) \\pm u'(x_i) \\Delta x + \\frac{1}{2} u''(x_i) \\Delta x^2 \\pm \\frac{1}{6} u'''(x_i) \\Delta x^3 + \\frac{1}{24} u^{(4)}(x_i) \\Delta x^4 + \\mathcal{O}(\\Delta x^5)\n",
    "$$"
   ]
  },
  {
   "cell_type": "markdown",
   "metadata": {},
   "source": [
    "This leads to an expression for $\\tau_i$ of\n",
    "$$\\begin{aligned}\n",
    "    \u001f\\tau_i &= \\frac{1}{\\Delta x^2} \\left [u''(x_i) \\Delta x^2 + \\frac{1}{12} u^{(4)}(x_i) \\Delta x^4 + \\mathcal{O}(\\Delta x^5) \\right ] - f(x_i) \\\\\n",
    "    &= u''(x_i) + \\frac{1}{12} u^{(4)}(x_i) \\Delta x^2 + \\mathcal{O}(\\Delta x^4) - f(x_i) \\\\\n",
    "    &= \\frac{1}{12} u^{(4)}(x_i) \\Delta x^2 + \\mathcal{O}(\\Delta x^4)\n",
    "\\end{aligned}$$\n",
    "where we note that the true solution would satisfy $u''(x) = f(x)$.\n",
    "\n",
    "As long as $ u^{(4)}(x_i) $ remains finite (smooth) we know that $\\tau_i \\rightarrow 0$ as $\\Delta x \\rightarrow 0$"
   ]
  },
  {
   "cell_type": "markdown",
   "metadata": {},
   "source": [
    "We can also write the vector of LTEs as\n",
    "$$\n",
    "    \\tau = A \\hat{U} - F\n",
    "$$\n",
    "which implies\n",
    "$$\n",
    "    A\\hat{U} = F + \\tau.\n",
    "$$"
   ]
  },
  {
   "cell_type": "markdown",
   "metadata": {},
   "source": [
    "### Global Error\n",
    "\n",
    "What we really want to bound is the global error $E$.  To relate the global error and LTE we can substitute $E = U - \\hat{U}$ into our expression for the LTE to find\n",
    "$$\n",
    "    A E = -\\tau.\n",
    "$$\n",
    "This means that the global error is the solution to the system of equations we difined for the approximation except with $\\tau$ as the forcing function rather than $F$!  This also implies that the global error $E$ can be thought of as an approximation to similar BVP as we started with where\n",
    "$$\n",
    "    e''(x) = -\\tau(x) ~~~ \\Omega = [0, 1] \\\\\n",
    "    e(0) = 0 ~~~ e(1) = 0.\n",
    "$$\n",
    "We can solve this ODE directly by integrating twice since to find to leading order\n",
    "$$\\begin{aligned}\n",
    "    e(x) &\\approx -\\frac{1}{12} \\Delta x^2 u''(x) + \\frac{1}{12} \\Delta x^2 (u''(0) + x (u''(1) - u''(0))) \\\\\n",
    "    &= \\mathcal{O}(\\Delta x^2) \\\\\n",
    "    &\\rightarrow 0 ~~~ \\text{as} ~~~ \\Delta x \\rightarrow 0.\n",
    "\\end{aligned}$$"
   ]
  },
  {
   "cell_type": "markdown",
   "metadata": {},
   "source": [
    "### Stability"
   ]
  },
  {
   "cell_type": "markdown",
   "metadata": {},
   "source": [
    "### Consistency"
   ]
  },
  {
   "cell_type": "markdown",
   "metadata": {},
   "source": [
    "### Convergence"
   ]
  }
 ],
 "metadata": {
  "kernelspec": {
   "display_name": "Python 2",
   "language": "python",
   "name": "python2"
  },
  "language_info": {
   "codemirror_mode": {
    "name": "ipython",
    "version": 2
   },
   "file_extension": ".py",
   "mimetype": "text/x-python",
   "name": "python",
   "nbconvert_exporter": "python",
   "pygments_lexer": "ipython2",
   "version": "2.7.11"
  },
  "latex_envs": {
   "bibliofile": "biblio.bib",
   "cite_by": "apalike",
   "current_citInitial": 1,
   "eqLabelWithNumbers": true,
   "eqNumInitial": 0
  }
 },
 "nbformat": 4,
 "nbformat_minor": 0
}
