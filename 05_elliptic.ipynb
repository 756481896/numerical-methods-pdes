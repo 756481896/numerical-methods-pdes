{
 "cells": [
  {
   "cell_type": "markdown",
   "metadata": {},
   "source": [
    "<table>\n",
    " <tr align=left><td><img align=left src=\"https://i.creativecommons.org/l/by/4.0/88x31.png\">\n",
    " <td>Text provided under a Creative Commons Attribution license, CC-BY. All code is made available under the FSF-approved MIT license. (c) Kyle T. Mandli</td>\n",
    "</table>"
   ]
  },
  {
   "cell_type": "code",
   "execution_count": 1,
   "metadata": {
    "collapsed": true
   },
   "outputs": [],
   "source": [
    "%matplotlib inline\n",
    "import numpy\n",
    "import matplotlib.pyplot as plt"
   ]
  },
  {
   "cell_type": "markdown",
   "metadata": {},
   "source": [
    "# Elliptic Equations"
   ]
  },
  {
   "cell_type": "markdown",
   "metadata": {},
   "source": [
    "Higher dimensional elliptic equations in general have the form\n",
    "$$\n",
    "    a_1 u_{xx} + a_2 u_{xy} + a_3 u_{yy} + a_4 u_x + a_5 u_y + a_6 u = f\n",
    "$$\n",
    "where the coefficients must satisfy\n",
    "$$\n",
    "    a_2^2 - 4 a_1 a_3 < 0.\n",
    "$$\n",
    "\n",
    "One natural place again that equations like this come up is again in the steady-state problems arising from the heat equation.  In two dimensions we have\n",
    "$$\n",
    "    u_t = (\\kappa u_x)_x + (\\kappa u_y)_y + \\Psi(x,y).\n",
    "$$\n",
    "If $u_t = 0$ we then have\n",
    "$$\n",
    "    (\\kappa u_x)_x + (\\kappa u_y)_y = -\\Psi(x,y).\n",
    "$$\n",
    "If we assume $\\kappa$ to be constant we can rewrite this equation as\n",
    "$$\n",
    "    u_{xx} + u_{yy} = -\\frac{\\Psi}{\\kappa} = f(x,y)\n",
    "$$\n",
    "which is the higher dimensional form of Poisson's equation (and Laplace's equation if $f(x,y) = 0$).\n",
    "\n",
    "We also must specify a domain $\\Omega$ and boundary conditions as before.  Now the boundary conditions will have $x$ and $y$ dependence so will need to be handled a bit differently than before."
   ]
  },
  {
   "cell_type": "markdown",
   "metadata": {},
   "source": [
    "## 5-Point Stencil\n",
    "\n",
    "Extending our work in one-dimension to two we can construct the 5-point stencil for the Laplacian operator as\n",
    "$$\n",
    "    \\nabla^2 u \\approx \\frac{U_{i-1,j} - 2 U_{i,j} + U_{i+1,j}}{\\Delta x^2} + \\frac{U_{i,j-1} - 2 U_{i,j} + U_{i,j+1}}{\\Delta y^2}.\n",
    "$$\n",
    "If $\\Delta x = \\Delta y$ we can simplify this expression to\n",
    "$$\n",
    "    \\nabla^2 u \\approx \\frac{U_{i-1,j} + U_{i+1,j} - 4 U_{i,j}  + U_{i,j-1} + U_{i,j+1}}{\\Delta x^2}\n",
    "$$\n",
    "We can the approximate the solution to the Poisson equation as\n",
    "$$\n",
    "    \\frac{U_{i-1,j} + U_{i+1,j} - 4 U_{i,j}  + U_{i,j-1} + U_{i,j+1}}{\\Delta x^2} = f_{i,j}\n",
    "$$\n",
    "which leads to $m^2$ equations for $m^2$ unknowns."
   ]
  },
  {
   "cell_type": "code",
   "execution_count": null,
   "metadata": {
    "collapsed": true
   },
   "outputs": [],
   "source": []
  }
 ],
 "metadata": {
  "kernelspec": {
   "display_name": "Python 2",
   "language": "python",
   "name": "python2"
  },
  "language_info": {
   "codemirror_mode": {
    "name": "ipython",
    "version": 2
   },
   "file_extension": ".py",
   "mimetype": "text/x-python",
   "name": "python",
   "nbconvert_exporter": "python",
   "pygments_lexer": "ipython2",
   "version": "2.7.11"
  },
  "latex_envs": {
   "bibliofile": "biblio.bib",
   "cite_by": "apalike",
   "current_citInitial": 1,
   "eqLabelWithNumbers": true,
   "eqNumInitial": 0
  }
 },
 "nbformat": 4,
 "nbformat_minor": 0
}
